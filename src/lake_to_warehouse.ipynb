{
  "nbformat": 4,
  "nbformat_minor": 0,
  "metadata": {
    "colab": {
      "name": "BigQuery table",
      "cell_execution_strategy": "setup",
      "provenance": []
    },
    "kernelspec": {
      "name": "python3",
      "display_name": "Python 3"
    },
    "language_info": {
      "name": "python"
    }
  },
  "cells": [
    {
      "cell_type": "code",
      "source": [
        "from google.cloud.dataproc_spark_connect import DataprocSparkSession\n",
        "import requests\n",
        "from datetime import datetime, timedelta\n",
        "import os\n",
        "from google.cloud import storage\n",
        "from google.cloud import bigquery\n",
        "from pyspark.sql.functions import col\n",
        "\n",
        "# Configuração para o Google Cloud Storage\n",
        "project_id = \"coastal-stream-464319-q3\"\n",
        "gcs_bucket = \"teste_ifood\"\n",
        "gcs_path = f\"gs://{gcs_bucket}/nyc_data/\"\n",
        "\n",
        "# Inicializar cliente Storage e BigQuery\n",
        "storage_client = storage.Client(project=project_id)\n",
        "bucket = storage_client.bucket(gcs_bucket)\n",
        "bq_client = bigquery.Client(project=project_id)\n",
        "\n",
        "# Diretório temporário local\n",
        "temp_dir = \"/tmp/nyc_data/\"\n",
        "\n",
        "# Criar o diretório temporário\n",
        "if not os.path.exists(temp_dir):\n",
        "    os.makedirs(temp_dir)\n",
        "    print(f\"Diretório temporário criado: {temp_dir}\")\n",
        "\n",
        "# Função para baixar arquivos\n",
        "def download_file(url, local_path):\n",
        "    try:\n",
        "        response = requests.get(url)\n",
        "        response.raise_for_status()\n",
        "        with open(local_path, 'wb') as file:\n",
        "            file.write(response.content)\n",
        "        print(f\"Arquivo baixado para {local_path}\")\n",
        "        return True\n",
        "    except Exception as e:\n",
        "        print(f\"Erro ao baixar arquivo de {url}: {str(e)}\")\n",
        "        return False\n",
        "\n",
        "# Função para fazer upload para o GCS\n",
        "def upload_to_gcs(local_path, gcs_blob_name):\n",
        "    try:\n",
        "        blob = bucket.blob(gcs_blob_name)\n",
        "        blob.upload_from_filename(local_path)\n",
        "        print(f\"Arquivo enviado para gs://{gcs_bucket}/{gcs_blob_name}\")\n",
        "        return f\"gs://{gcs_bucket}/{gcs_blob_name}\"\n",
        "    except Exception as e:\n",
        "        print(f\"Erro ao fazer upload para GCS: {str(e)}\")\n",
        "        return None\n",
        "\n",
        "# Inicializar Spark com suporte a Delta\n",
        "print(\"Iniciando sessão Spark...\")\n",
        "spark = DataprocSparkSession.builder \\\n",
        "    .appName(\"NYC Taxi Data Delta\") \\\n",
        "    .config(\"spark.jars\", \"gs://spark-lib/bigquery/spark-bigquery-with-dependencies_2.12-0.28.0.jar\") \\\n",
        "    .config(\"spark.jars.packages\", \"io.delta:delta-core_2.12:2.2.0\") \\\n",
        "    .config(\"spark.sql.extensions\", \"io.delta.sql.DeltaSparkSessionExtension\") \\\n",
        "    .config(\"spark.sql.catalog.spark_catalog\", \"org.apache.spark.sql.delta.catalog.DeltaCatalog\") \\\n",
        "    .getOrCreate()\n",
        "print(\"Sessão Spark iniciada\")\n",
        "\n",
        "# Parâmetros\n",
        "base_url = \"https://d37ci6vzurychx.cloudfront.net/trip-data/\"\n",
        "file_names = [\"yellow_tripdata_\", \"green_tripdata_\"]\n",
        "start_date = \"2023-01\"\n",
        "end_date = \"2023-05\"\n",
        "\n",
        "# Gerar lista de meses\n",
        "start = datetime.strptime(start_date, \"%Y-%m\")\n",
        "end = datetime.strptime(end_date, \"%Y-%m\")\n",
        "months = []\n",
        "current = start\n",
        "while current <= end:\n",
        "    months.append(current.strftime(\"%Y-%m\"))\n",
        "    current += timedelta(days=32)\n",
        "    current = current.replace(day=1)\n",
        "\n",
        "print(f\"Processando meses: {', '.join(months)}\")\n",
        "\n",
        "# Dicionário para rastrear todos os DataFrames por tipo de táxi\n",
        "taxi_dataframes = {}\n",
        "\n",
        "# Loop para cada combinação de arquivo e mês\n",
        "for file_name in file_names:\n",
        "    # Extrair o nome da pasta removendo o underscore final\n",
        "    folder_name = file_name.rstrip(\"_\")\n",
        "    print(f\"\\nProcessando arquivos {folder_name}...\")\n",
        "\n",
        "    # Lista para armazenar DataFrames deste tipo de táxi\n",
        "    month_dataframes = []\n",
        "\n",
        "    for month in months:\n",
        "        file_url = f\"{base_url}{file_name}{month}.parquet\"\n",
        "        local_file_path = f\"{temp_dir}{file_name}{month}.parquet\"\n",
        "        gcs_temp_path = f\"nyc_data/temp/{file_name}{month}.parquet\"\n",
        "        delta_path = f\"{gcs_path}{folder_name}_delta/{month}\"\n",
        "\n",
        "        print(f\"Baixando {file_name}{month}...\")\n",
        "        if download_file(file_url, local_file_path):\n",
        "            # Fazer upload para o GCS temporariamente\n",
        "            print(f\"Enviando {file_name}{month} para o GCS...\")\n",
        "            gcs_uri = upload_to_gcs(local_file_path, gcs_temp_path)\n",
        "\n",
        "            if gcs_uri:\n",
        "                print(f\"Lendo {file_name}{month} com Spark do GCS...\")\n",
        "                try:\n",
        "                    # Ler o arquivo Parquet do GCS com Spark\n",
        "                    df = spark.read.parquet(gcs_uri)\n",
        "\n",
        "                    # Mostrar quantidade de registros e schema\n",
        "                    count = df.count()\n",
        "                    print(f\"Arquivo {file_name}{month} contém {count} registros\")\n",
        "\n",
        "                    # Salvar como Delta Lake\n",
        "                    print(f\"Salvando {file_name}{month} como Delta Lake em {delta_path}...\")\n",
        "                    df.write \\\n",
        "                        .format(\"delta\") \\\n",
        "                        .mode(\"overwrite\") \\\n",
        "                        .save(delta_path)\n",
        "                    print(f\"✓ Arquivo {file_name}{month} salvo como Delta Lake em {delta_path}\")\n",
        "\n",
        "                    # Adicionar DataFrame à lista para consolidação\n",
        "                    month_dataframes.append(df)\n",
        "\n",
        "                except Exception as e:\n",
        "                    print(f\"✗ Erro ao processar {file_name}{month} com Spark: {str(e)}\")\n",
        "            else:\n",
        "                print(f\"✗ Falha no upload para GCS, pulando processamento\")\n",
        "        else:\n",
        "            print(f\"✗ Falha ao baixar {file_name}{month}, pulando processamento\")\n",
        "\n",
        "        # Remover arquivo local para economizar espaço\n",
        "        if os.path.exists(local_file_path):\n",
        "            os.remove(local_file_path)\n",
        "            print(f\"Arquivo local {local_file_path} removido\")\n",
        "\n",
        "    # Armazenar lista de DataFrames para este tipo de táxi\n",
        "    taxi_dataframes[folder_name] = month_dataframes\n",
        "\n",
        "# Criar dataset no BigQuery se não existir\n",
        "dataset_id = f\"{project_id}.nyc_taxi_data\"\n",
        "try:\n",
        "    dataset = bigquery.Dataset(dataset_id)\n",
        "    dataset.location = \"southamerica-east1\"\n",
        "    bq_client.create_dataset(dataset, exists_ok=True)\n",
        "    print(f\"Dataset {dataset_id} configurado com sucesso\")\n",
        "except Exception as e:\n",
        "    print(f\"Erro ao configurar dataset: {str(e)}\")\n",
        "\n",
        "# Consolidar e escrever tabelas para BigQuery\n",
        "for taxi_type, dataframes in taxi_dataframes.items():\n",
        "    if not dataframes:\n",
        "        print(f\"Nenhum dado disponível para {taxi_type}, pulando\")\n",
        "        continue\n",
        "\n",
        "    print(f\"\\nConsolidando todos os meses para {taxi_type}...\")\n",
        "\n",
        "    # União de todos os DataFrames deste tipo\n",
        "    consolidated_df = dataframes[0]\n",
        "    for df in dataframes[1:]:\n",
        "        consolidated_df = consolidated_df.union(df)\n",
        "\n",
        "    # Mostrar contagem total\n",
        "    total_count = consolidated_df.count()\n",
        "    print(f\"Total de registros para {taxi_type}: {total_count}\")\n",
        "\n",
        "    # Determinar colunas específicas para cada tipo de táxi\n",
        "    if \"yellow\" in taxi_type:\n",
        "        pickup_col = \"tpep_pickup_datetime\"\n",
        "        dropoff_col = \"tpep_dropoff_datetime\"\n",
        "    else:  # green\n",
        "        pickup_col = \"lpep_pickup_datetime\" if \"lpep_pickup_datetime\" in consolidated_df.columns else \"tpep_pickup_datetime\"\n",
        "        dropoff_col = \"lpep_dropoff_datetime\" if \"lpep_dropoff_datetime\" in consolidated_df.columns else \"tpep_dropoff_datetime\"\n",
        "\n",
        "    # Selecionar apenas as colunas obrigatórias\n",
        "    try:\n",
        "        clean_df = consolidated_df.select(\n",
        "            col(\"VendorID\").cast(\"integer\"),\n",
        "            col(\"passenger_count\").cast(\"float\"),\n",
        "            col(\"total_amount\").cast(\"float\"),\n",
        "            col(pickup_col).alias(\"tpep_pickup_datetime\").cast(\"timestamp\"),\n",
        "            col(dropoff_col).alias(\"tpep_dropoff_datetime\").cast(\"timestamp\")\n",
        "        )\n",
        "\n",
        "        # Mostrar amostra\n",
        "        print(f\"Amostra de dados consolidados para {taxi_type}:\")\n",
        "        clean_df.show(5)\n",
        "\n",
        "        # Escrever para BigQuery\n",
        "        table_name = f\"{taxi_type}\"\n",
        "        bq_table = f\"{project_id}.nyc_taxi_data.{table_name}\"\n",
        "\n",
        "        print(f\"Escrevendo tabela consolidada para BigQuery: {bq_table}\")\n",
        "        clean_df.write \\\n",
        "            .format(\"bigquery\") \\\n",
        "            .option(\"temporaryGcsBucket\", gcs_bucket) \\\n",
        "            .option(\"table\", bq_table) \\\n",
        "            .option(\"createDisposition\", \"CREATE_IF_NEEDED\") \\\n",
        "            .option(\"writeDisposition\", \"WRITE_TRUNCATE\") \\\n",
        "            .save()\n",
        "\n",
        "        print(f\"✓ Tabela {bq_table} criada com sucesso no BigQuery\")\n",
        "\n",
        "    except Exception as e:\n",
        "        print(f\"✗ Erro ao criar tabela BigQuery para {taxi_type}: {str(e)}\")\n",
        "\n",
        "# Encerrar a sessão Spark\n",
        "spark.stop()\n",
        "print(\"\\nProcessamento completo! Todas as tabelas foram criadas no BigQuery.\")"
      ],
      "metadata": {
        "id": "p2NN8wwF7YRa",
        "colab": {
          "base_uri": "https://localhost:8080/",
          "height": 1000
        },
        "outputId": "cecca884-13ec-4629-dc6b-1c6eda651857"
      },
      "execution_count": 7,
      "outputs": [
        {
          "output_type": "stream",
          "name": "stdout",
          "text": [
            "Iniciando sessão Spark...\n"
          ]
        },
        {
          "output_type": "display_data",
          "data": {
            "text/plain": [
              "<IPython.core.display.HTML object>"
            ],
            "text/html": [
              "\n",
              "                <div>\n",
              "                    <p>Creating Dataproc Spark Session<p>\n",
              "                    <p><a href=\"https://console.cloud.google.com/dataproc/interactive/southamerica-east1/sc-20250811-230541-4tualv?project=coastal-stream-464319-q3\">Dataproc Session</a></p>\n",
              "                </div>\n",
              "            "
            ]
          },
          "metadata": {}
        },
        {
          "output_type": "stream",
          "name": "stderr",
          "text": [
            "█████████████████████████████████████████████████████████▌                      "
          ]
        },
        {
          "output_type": "stream",
          "name": "stdout",
          "text": [
            "\n"
          ]
        },
        {
          "output_type": "stream",
          "name": "stderr",
          "text": [
            "\n"
          ]
        },
        {
          "output_type": "display_data",
          "data": {
            "text/plain": [
              "<IPython.core.display.HTML object>"
            ],
            "text/html": [
              "<div><p>Dataproc Session was successfully created</p></div>"
            ]
          },
          "metadata": {}
        },
        {
          "output_type": "stream",
          "name": "stdout",
          "text": [
            "Sessão Spark iniciada\n",
            "Processando meses: 2023-01, 2023-02, 2023-03, 2023-04, 2023-05\n",
            "\n",
            "Processando arquivos yellow_tripdata...\n",
            "Baixando yellow_tripdata_2023-01...\n",
            "Arquivo baixado para /tmp/nyc_data/yellow_tripdata_2023-01.parquet\n",
            "Enviando yellow_tripdata_2023-01 para o GCS...\n",
            "Arquivo enviado para gs://teste_ifood/nyc_data/temp/yellow_tripdata_2023-01.parquet\n",
            "Lendo yellow_tripdata_2023-01 com Spark do GCS...\n"
          ]
        },
        {
          "output_type": "display_data",
          "data": {
            "text/plain": [
              "<IPython.core.display.HTML object>"
            ],
            "text/html": [
              "\n",
              "              <div>\n",
              "                  <p><a href=\"https://console.cloud.google.com/dataproc/interactive/southamerica-east1/sc-20250811-230541-4tualv/sparkApplications/application;associatedSqlOperationId=c3fdbacc-bb64-4672-8fa8-17f97c71a14e?project=coastal-stream-464319-q3\">Spark Query</a> (Operation: c3fdbacc-bb64-4672-8fa8-17f97c71a14e)</p>\n",
              "              </div>\n",
              "              "
            ]
          },
          "metadata": {}
        },
        {
          "output_type": "stream",
          "name": "stdout",
          "text": [
            "Arquivo yellow_tripdata_2023-01 contém 3066766 registros\n",
            "Salvando yellow_tripdata_2023-01 como Delta Lake em gs://teste_ifood/nyc_data/yellow_tripdata_delta/2023-01...\n"
          ]
        },
        {
          "output_type": "display_data",
          "data": {
            "text/plain": [
              "<IPython.core.display.HTML object>"
            ],
            "text/html": [
              "\n",
              "              <div>\n",
              "                  <p><a href=\"https://console.cloud.google.com/dataproc/interactive/southamerica-east1/sc-20250811-230541-4tualv/sparkApplications/application;associatedSqlOperationId=bdcc10cc-006c-41da-aed0-4662f2284b64?project=coastal-stream-464319-q3\">Spark Query</a> (Operation: bdcc10cc-006c-41da-aed0-4662f2284b64)</p>\n",
              "              </div>\n",
              "              "
            ]
          },
          "metadata": {}
        },
        {
          "output_type": "stream",
          "name": "stdout",
          "text": [
            "✓ Arquivo yellow_tripdata_2023-01 salvo como Delta Lake em gs://teste_ifood/nyc_data/yellow_tripdata_delta/2023-01\n",
            "Arquivo local /tmp/nyc_data/yellow_tripdata_2023-01.parquet removido\n",
            "Baixando yellow_tripdata_2023-02...\n",
            "Arquivo baixado para /tmp/nyc_data/yellow_tripdata_2023-02.parquet\n",
            "Enviando yellow_tripdata_2023-02 para o GCS...\n",
            "Arquivo enviado para gs://teste_ifood/nyc_data/temp/yellow_tripdata_2023-02.parquet\n",
            "Lendo yellow_tripdata_2023-02 com Spark do GCS...\n"
          ]
        },
        {
          "output_type": "display_data",
          "data": {
            "text/plain": [
              "<IPython.core.display.HTML object>"
            ],
            "text/html": [
              "\n",
              "              <div>\n",
              "                  <p><a href=\"https://console.cloud.google.com/dataproc/interactive/southamerica-east1/sc-20250811-230541-4tualv/sparkApplications/application;associatedSqlOperationId=0e4d6144-beea-4578-a68f-623d8855ab8e?project=coastal-stream-464319-q3\">Spark Query</a> (Operation: 0e4d6144-beea-4578-a68f-623d8855ab8e)</p>\n",
              "              </div>\n",
              "              "
            ]
          },
          "metadata": {}
        },
        {
          "output_type": "stream",
          "name": "stdout",
          "text": [
            "Arquivo yellow_tripdata_2023-02 contém 2913955 registros\n",
            "Salvando yellow_tripdata_2023-02 como Delta Lake em gs://teste_ifood/nyc_data/yellow_tripdata_delta/2023-02...\n"
          ]
        },
        {
          "output_type": "display_data",
          "data": {
            "text/plain": [
              "<IPython.core.display.HTML object>"
            ],
            "text/html": [
              "\n",
              "              <div>\n",
              "                  <p><a href=\"https://console.cloud.google.com/dataproc/interactive/southamerica-east1/sc-20250811-230541-4tualv/sparkApplications/application;associatedSqlOperationId=f2b6783b-e187-4f78-8f6e-facf05d0ce69?project=coastal-stream-464319-q3\">Spark Query</a> (Operation: f2b6783b-e187-4f78-8f6e-facf05d0ce69)</p>\n",
              "              </div>\n",
              "              "
            ]
          },
          "metadata": {}
        },
        {
          "output_type": "stream",
          "name": "stdout",
          "text": [
            "✓ Arquivo yellow_tripdata_2023-02 salvo como Delta Lake em gs://teste_ifood/nyc_data/yellow_tripdata_delta/2023-02\n",
            "Arquivo local /tmp/nyc_data/yellow_tripdata_2023-02.parquet removido\n",
            "Baixando yellow_tripdata_2023-03...\n",
            "Arquivo baixado para /tmp/nyc_data/yellow_tripdata_2023-03.parquet\n",
            "Enviando yellow_tripdata_2023-03 para o GCS...\n",
            "Arquivo enviado para gs://teste_ifood/nyc_data/temp/yellow_tripdata_2023-03.parquet\n",
            "Lendo yellow_tripdata_2023-03 com Spark do GCS...\n"
          ]
        },
        {
          "output_type": "display_data",
          "data": {
            "text/plain": [
              "<IPython.core.display.HTML object>"
            ],
            "text/html": [
              "\n",
              "              <div>\n",
              "                  <p><a href=\"https://console.cloud.google.com/dataproc/interactive/southamerica-east1/sc-20250811-230541-4tualv/sparkApplications/application;associatedSqlOperationId=b140f20b-16b3-4993-996b-11f408cb8d1c?project=coastal-stream-464319-q3\">Spark Query</a> (Operation: b140f20b-16b3-4993-996b-11f408cb8d1c)</p>\n",
              "              </div>\n",
              "              "
            ]
          },
          "metadata": {}
        },
        {
          "output_type": "stream",
          "name": "stdout",
          "text": [
            "Arquivo yellow_tripdata_2023-03 contém 3403766 registros\n",
            "Salvando yellow_tripdata_2023-03 como Delta Lake em gs://teste_ifood/nyc_data/yellow_tripdata_delta/2023-03...\n"
          ]
        },
        {
          "output_type": "display_data",
          "data": {
            "text/plain": [
              "<IPython.core.display.HTML object>"
            ],
            "text/html": [
              "\n",
              "              <div>\n",
              "                  <p><a href=\"https://console.cloud.google.com/dataproc/interactive/southamerica-east1/sc-20250811-230541-4tualv/sparkApplications/application;associatedSqlOperationId=0781fd42-a853-461f-b8d7-6bf143d14d47?project=coastal-stream-464319-q3\">Spark Query</a> (Operation: 0781fd42-a853-461f-b8d7-6bf143d14d47)</p>\n",
              "              </div>\n",
              "              "
            ]
          },
          "metadata": {}
        },
        {
          "output_type": "stream",
          "name": "stdout",
          "text": [
            "✓ Arquivo yellow_tripdata_2023-03 salvo como Delta Lake em gs://teste_ifood/nyc_data/yellow_tripdata_delta/2023-03\n",
            "Arquivo local /tmp/nyc_data/yellow_tripdata_2023-03.parquet removido\n",
            "Baixando yellow_tripdata_2023-04...\n",
            "Arquivo baixado para /tmp/nyc_data/yellow_tripdata_2023-04.parquet\n",
            "Enviando yellow_tripdata_2023-04 para o GCS...\n",
            "Arquivo enviado para gs://teste_ifood/nyc_data/temp/yellow_tripdata_2023-04.parquet\n",
            "Lendo yellow_tripdata_2023-04 com Spark do GCS...\n"
          ]
        },
        {
          "output_type": "display_data",
          "data": {
            "text/plain": [
              "<IPython.core.display.HTML object>"
            ],
            "text/html": [
              "\n",
              "              <div>\n",
              "                  <p><a href=\"https://console.cloud.google.com/dataproc/interactive/southamerica-east1/sc-20250811-230541-4tualv/sparkApplications/application;associatedSqlOperationId=3fb96b42-e2b0-4ecb-bb2f-8f6d29ee871d?project=coastal-stream-464319-q3\">Spark Query</a> (Operation: 3fb96b42-e2b0-4ecb-bb2f-8f6d29ee871d)</p>\n",
              "              </div>\n",
              "              "
            ]
          },
          "metadata": {}
        },
        {
          "output_type": "stream",
          "name": "stdout",
          "text": [
            "Arquivo yellow_tripdata_2023-04 contém 3288250 registros\n",
            "Salvando yellow_tripdata_2023-04 como Delta Lake em gs://teste_ifood/nyc_data/yellow_tripdata_delta/2023-04...\n"
          ]
        },
        {
          "output_type": "display_data",
          "data": {
            "text/plain": [
              "<IPython.core.display.HTML object>"
            ],
            "text/html": [
              "\n",
              "              <div>\n",
              "                  <p><a href=\"https://console.cloud.google.com/dataproc/interactive/southamerica-east1/sc-20250811-230541-4tualv/sparkApplications/application;associatedSqlOperationId=9eef9aea-6f8f-465d-999e-b78ab0b1879d?project=coastal-stream-464319-q3\">Spark Query</a> (Operation: 9eef9aea-6f8f-465d-999e-b78ab0b1879d)</p>\n",
              "              </div>\n",
              "              "
            ]
          },
          "metadata": {}
        },
        {
          "output_type": "stream",
          "name": "stdout",
          "text": [
            "✓ Arquivo yellow_tripdata_2023-04 salvo como Delta Lake em gs://teste_ifood/nyc_data/yellow_tripdata_delta/2023-04\n",
            "Arquivo local /tmp/nyc_data/yellow_tripdata_2023-04.parquet removido\n",
            "Baixando yellow_tripdata_2023-05...\n",
            "Arquivo baixado para /tmp/nyc_data/yellow_tripdata_2023-05.parquet\n",
            "Enviando yellow_tripdata_2023-05 para o GCS...\n",
            "Arquivo enviado para gs://teste_ifood/nyc_data/temp/yellow_tripdata_2023-05.parquet\n",
            "Lendo yellow_tripdata_2023-05 com Spark do GCS...\n"
          ]
        },
        {
          "output_type": "display_data",
          "data": {
            "text/plain": [
              "<IPython.core.display.HTML object>"
            ],
            "text/html": [
              "\n",
              "              <div>\n",
              "                  <p><a href=\"https://console.cloud.google.com/dataproc/interactive/southamerica-east1/sc-20250811-230541-4tualv/sparkApplications/application;associatedSqlOperationId=4f373d54-d71d-4721-8ae6-13b45765a548?project=coastal-stream-464319-q3\">Spark Query</a> (Operation: 4f373d54-d71d-4721-8ae6-13b45765a548)</p>\n",
              "              </div>\n",
              "              "
            ]
          },
          "metadata": {}
        },
        {
          "output_type": "stream",
          "name": "stdout",
          "text": [
            "Arquivo yellow_tripdata_2023-05 contém 3513649 registros\n",
            "Salvando yellow_tripdata_2023-05 como Delta Lake em gs://teste_ifood/nyc_data/yellow_tripdata_delta/2023-05...\n"
          ]
        },
        {
          "output_type": "display_data",
          "data": {
            "text/plain": [
              "<IPython.core.display.HTML object>"
            ],
            "text/html": [
              "\n",
              "              <div>\n",
              "                  <p><a href=\"https://console.cloud.google.com/dataproc/interactive/southamerica-east1/sc-20250811-230541-4tualv/sparkApplications/application;associatedSqlOperationId=91243772-ff56-43e9-8b4a-f4dc8f294acf?project=coastal-stream-464319-q3\">Spark Query</a> (Operation: 91243772-ff56-43e9-8b4a-f4dc8f294acf)</p>\n",
              "              </div>\n",
              "              "
            ]
          },
          "metadata": {}
        },
        {
          "output_type": "stream",
          "name": "stdout",
          "text": [
            "✓ Arquivo yellow_tripdata_2023-05 salvo como Delta Lake em gs://teste_ifood/nyc_data/yellow_tripdata_delta/2023-05\n",
            "Arquivo local /tmp/nyc_data/yellow_tripdata_2023-05.parquet removido\n",
            "\n",
            "Processando arquivos green_tripdata...\n",
            "Baixando green_tripdata_2023-01...\n",
            "Arquivo baixado para /tmp/nyc_data/green_tripdata_2023-01.parquet\n",
            "Enviando green_tripdata_2023-01 para o GCS...\n",
            "Arquivo enviado para gs://teste_ifood/nyc_data/temp/green_tripdata_2023-01.parquet\n",
            "Lendo green_tripdata_2023-01 com Spark do GCS...\n"
          ]
        },
        {
          "output_type": "display_data",
          "data": {
            "text/plain": [
              "<IPython.core.display.HTML object>"
            ],
            "text/html": [
              "\n",
              "              <div>\n",
              "                  <p><a href=\"https://console.cloud.google.com/dataproc/interactive/southamerica-east1/sc-20250811-230541-4tualv/sparkApplications/application;associatedSqlOperationId=b7732932-80ab-4eaa-8b73-47aa4c489002?project=coastal-stream-464319-q3\">Spark Query</a> (Operation: b7732932-80ab-4eaa-8b73-47aa4c489002)</p>\n",
              "              </div>\n",
              "              "
            ]
          },
          "metadata": {}
        },
        {
          "output_type": "stream",
          "name": "stdout",
          "text": [
            "Arquivo green_tripdata_2023-01 contém 68211 registros\n",
            "Salvando green_tripdata_2023-01 como Delta Lake em gs://teste_ifood/nyc_data/green_tripdata_delta/2023-01...\n"
          ]
        },
        {
          "output_type": "display_data",
          "data": {
            "text/plain": [
              "<IPython.core.display.HTML object>"
            ],
            "text/html": [
              "\n",
              "              <div>\n",
              "                  <p><a href=\"https://console.cloud.google.com/dataproc/interactive/southamerica-east1/sc-20250811-230541-4tualv/sparkApplications/application;associatedSqlOperationId=50553a0c-b239-4975-83da-4b04be487603?project=coastal-stream-464319-q3\">Spark Query</a> (Operation: 50553a0c-b239-4975-83da-4b04be487603)</p>\n",
              "              </div>\n",
              "              "
            ]
          },
          "metadata": {}
        },
        {
          "output_type": "stream",
          "name": "stdout",
          "text": [
            "✓ Arquivo green_tripdata_2023-01 salvo como Delta Lake em gs://teste_ifood/nyc_data/green_tripdata_delta/2023-01\n",
            "Arquivo local /tmp/nyc_data/green_tripdata_2023-01.parquet removido\n",
            "Baixando green_tripdata_2023-02...\n",
            "Arquivo baixado para /tmp/nyc_data/green_tripdata_2023-02.parquet\n",
            "Enviando green_tripdata_2023-02 para o GCS...\n",
            "Arquivo enviado para gs://teste_ifood/nyc_data/temp/green_tripdata_2023-02.parquet\n",
            "Lendo green_tripdata_2023-02 com Spark do GCS...\n"
          ]
        },
        {
          "output_type": "display_data",
          "data": {
            "text/plain": [
              "<IPython.core.display.HTML object>"
            ],
            "text/html": [
              "\n",
              "              <div>\n",
              "                  <p><a href=\"https://console.cloud.google.com/dataproc/interactive/southamerica-east1/sc-20250811-230541-4tualv/sparkApplications/application;associatedSqlOperationId=70674b5a-ff46-4ce1-a0a3-7b87717a5648?project=coastal-stream-464319-q3\">Spark Query</a> (Operation: 70674b5a-ff46-4ce1-a0a3-7b87717a5648)</p>\n",
              "              </div>\n",
              "              "
            ]
          },
          "metadata": {}
        },
        {
          "output_type": "stream",
          "name": "stdout",
          "text": [
            "Arquivo green_tripdata_2023-02 contém 64809 registros\n",
            "Salvando green_tripdata_2023-02 como Delta Lake em gs://teste_ifood/nyc_data/green_tripdata_delta/2023-02...\n"
          ]
        },
        {
          "output_type": "display_data",
          "data": {
            "text/plain": [
              "<IPython.core.display.HTML object>"
            ],
            "text/html": [
              "\n",
              "              <div>\n",
              "                  <p><a href=\"https://console.cloud.google.com/dataproc/interactive/southamerica-east1/sc-20250811-230541-4tualv/sparkApplications/application;associatedSqlOperationId=1e401a54-83c1-4781-8262-3188c92428b7?project=coastal-stream-464319-q3\">Spark Query</a> (Operation: 1e401a54-83c1-4781-8262-3188c92428b7)</p>\n",
              "              </div>\n",
              "              "
            ]
          },
          "metadata": {}
        },
        {
          "output_type": "stream",
          "name": "stdout",
          "text": [
            "✓ Arquivo green_tripdata_2023-02 salvo como Delta Lake em gs://teste_ifood/nyc_data/green_tripdata_delta/2023-02\n",
            "Arquivo local /tmp/nyc_data/green_tripdata_2023-02.parquet removido\n",
            "Baixando green_tripdata_2023-03...\n",
            "Arquivo baixado para /tmp/nyc_data/green_tripdata_2023-03.parquet\n",
            "Enviando green_tripdata_2023-03 para o GCS...\n",
            "Arquivo enviado para gs://teste_ifood/nyc_data/temp/green_tripdata_2023-03.parquet\n",
            "Lendo green_tripdata_2023-03 com Spark do GCS...\n"
          ]
        },
        {
          "output_type": "display_data",
          "data": {
            "text/plain": [
              "<IPython.core.display.HTML object>"
            ],
            "text/html": [
              "\n",
              "              <div>\n",
              "                  <p><a href=\"https://console.cloud.google.com/dataproc/interactive/southamerica-east1/sc-20250811-230541-4tualv/sparkApplications/application;associatedSqlOperationId=f93aff2d-74dd-4d1d-bb0a-afc94df225a0?project=coastal-stream-464319-q3\">Spark Query</a> (Operation: f93aff2d-74dd-4d1d-bb0a-afc94df225a0)</p>\n",
              "              </div>\n",
              "              "
            ]
          },
          "metadata": {}
        },
        {
          "output_type": "stream",
          "name": "stdout",
          "text": [
            "Arquivo green_tripdata_2023-03 contém 72044 registros\n",
            "Salvando green_tripdata_2023-03 como Delta Lake em gs://teste_ifood/nyc_data/green_tripdata_delta/2023-03...\n"
          ]
        },
        {
          "output_type": "display_data",
          "data": {
            "text/plain": [
              "<IPython.core.display.HTML object>"
            ],
            "text/html": [
              "\n",
              "              <div>\n",
              "                  <p><a href=\"https://console.cloud.google.com/dataproc/interactive/southamerica-east1/sc-20250811-230541-4tualv/sparkApplications/application;associatedSqlOperationId=e62e402e-ba70-4985-81cd-e405ef1ff0f9?project=coastal-stream-464319-q3\">Spark Query</a> (Operation: e62e402e-ba70-4985-81cd-e405ef1ff0f9)</p>\n",
              "              </div>\n",
              "              "
            ]
          },
          "metadata": {}
        },
        {
          "output_type": "stream",
          "name": "stdout",
          "text": [
            "✓ Arquivo green_tripdata_2023-03 salvo como Delta Lake em gs://teste_ifood/nyc_data/green_tripdata_delta/2023-03\n",
            "Arquivo local /tmp/nyc_data/green_tripdata_2023-03.parquet removido\n",
            "Baixando green_tripdata_2023-04...\n",
            "Arquivo baixado para /tmp/nyc_data/green_tripdata_2023-04.parquet\n",
            "Enviando green_tripdata_2023-04 para o GCS...\n",
            "Arquivo enviado para gs://teste_ifood/nyc_data/temp/green_tripdata_2023-04.parquet\n",
            "Lendo green_tripdata_2023-04 com Spark do GCS...\n"
          ]
        },
        {
          "output_type": "display_data",
          "data": {
            "text/plain": [
              "<IPython.core.display.HTML object>"
            ],
            "text/html": [
              "\n",
              "              <div>\n",
              "                  <p><a href=\"https://console.cloud.google.com/dataproc/interactive/southamerica-east1/sc-20250811-230541-4tualv/sparkApplications/application;associatedSqlOperationId=06f7f01f-dd70-42e2-9e94-054fc3b3046d?project=coastal-stream-464319-q3\">Spark Query</a> (Operation: 06f7f01f-dd70-42e2-9e94-054fc3b3046d)</p>\n",
              "              </div>\n",
              "              "
            ]
          },
          "metadata": {}
        },
        {
          "output_type": "stream",
          "name": "stdout",
          "text": [
            "Arquivo green_tripdata_2023-04 contém 65392 registros\n",
            "Salvando green_tripdata_2023-04 como Delta Lake em gs://teste_ifood/nyc_data/green_tripdata_delta/2023-04...\n"
          ]
        },
        {
          "output_type": "display_data",
          "data": {
            "text/plain": [
              "<IPython.core.display.HTML object>"
            ],
            "text/html": [
              "\n",
              "              <div>\n",
              "                  <p><a href=\"https://console.cloud.google.com/dataproc/interactive/southamerica-east1/sc-20250811-230541-4tualv/sparkApplications/application;associatedSqlOperationId=da0f124e-08b1-436b-a1dc-7517c3dbfc21?project=coastal-stream-464319-q3\">Spark Query</a> (Operation: da0f124e-08b1-436b-a1dc-7517c3dbfc21)</p>\n",
              "              </div>\n",
              "              "
            ]
          },
          "metadata": {}
        },
        {
          "output_type": "stream",
          "name": "stdout",
          "text": [
            "✓ Arquivo green_tripdata_2023-04 salvo como Delta Lake em gs://teste_ifood/nyc_data/green_tripdata_delta/2023-04\n",
            "Arquivo local /tmp/nyc_data/green_tripdata_2023-04.parquet removido\n",
            "Baixando green_tripdata_2023-05...\n",
            "Arquivo baixado para /tmp/nyc_data/green_tripdata_2023-05.parquet\n",
            "Enviando green_tripdata_2023-05 para o GCS...\n",
            "Arquivo enviado para gs://teste_ifood/nyc_data/temp/green_tripdata_2023-05.parquet\n",
            "Lendo green_tripdata_2023-05 com Spark do GCS...\n"
          ]
        },
        {
          "output_type": "display_data",
          "data": {
            "text/plain": [
              "<IPython.core.display.HTML object>"
            ],
            "text/html": [
              "\n",
              "              <div>\n",
              "                  <p><a href=\"https://console.cloud.google.com/dataproc/interactive/southamerica-east1/sc-20250811-230541-4tualv/sparkApplications/application;associatedSqlOperationId=3b0c0ae3-2634-4f5e-972a-d9f2f85f043b?project=coastal-stream-464319-q3\">Spark Query</a> (Operation: 3b0c0ae3-2634-4f5e-972a-d9f2f85f043b)</p>\n",
              "              </div>\n",
              "              "
            ]
          },
          "metadata": {}
        },
        {
          "output_type": "stream",
          "name": "stdout",
          "text": [
            "Arquivo green_tripdata_2023-05 contém 69174 registros\n",
            "Salvando green_tripdata_2023-05 como Delta Lake em gs://teste_ifood/nyc_data/green_tripdata_delta/2023-05...\n"
          ]
        },
        {
          "output_type": "display_data",
          "data": {
            "text/plain": [
              "<IPython.core.display.HTML object>"
            ],
            "text/html": [
              "\n",
              "              <div>\n",
              "                  <p><a href=\"https://console.cloud.google.com/dataproc/interactive/southamerica-east1/sc-20250811-230541-4tualv/sparkApplications/application;associatedSqlOperationId=23e8be10-c2dd-49e4-a3f4-6c3f7907cce6?project=coastal-stream-464319-q3\">Spark Query</a> (Operation: 23e8be10-c2dd-49e4-a3f4-6c3f7907cce6)</p>\n",
              "              </div>\n",
              "              "
            ]
          },
          "metadata": {}
        },
        {
          "output_type": "stream",
          "name": "stdout",
          "text": [
            "✓ Arquivo green_tripdata_2023-05 salvo como Delta Lake em gs://teste_ifood/nyc_data/green_tripdata_delta/2023-05\n",
            "Arquivo local /tmp/nyc_data/green_tripdata_2023-05.parquet removido\n",
            "Dataset coastal-stream-464319-q3.nyc_taxi_data configurado com sucesso\n",
            "\n",
            "Consolidando todos os meses para yellow_tripdata...\n"
          ]
        },
        {
          "output_type": "display_data",
          "data": {
            "text/plain": [
              "<IPython.core.display.HTML object>"
            ],
            "text/html": [
              "\n",
              "              <div>\n",
              "                  <p><a href=\"https://console.cloud.google.com/dataproc/interactive/southamerica-east1/sc-20250811-230541-4tualv/sparkApplications/application;associatedSqlOperationId=8b1783a7-ea87-4288-90b3-2521a392374f?project=coastal-stream-464319-q3\">Spark Query</a> (Operation: 8b1783a7-ea87-4288-90b3-2521a392374f)</p>\n",
              "              </div>\n",
              "              "
            ]
          },
          "metadata": {}
        },
        {
          "output_type": "stream",
          "name": "stdout",
          "text": [
            "Total de registros para yellow_tripdata: 16186386\n",
            "Amostra de dados consolidados para yellow_tripdata:\n"
          ]
        },
        {
          "output_type": "display_data",
          "data": {
            "text/plain": [
              "<IPython.core.display.HTML object>"
            ],
            "text/html": [
              "\n",
              "              <div>\n",
              "                  <p><a href=\"https://console.cloud.google.com/dataproc/interactive/southamerica-east1/sc-20250811-230541-4tualv/sparkApplications/application;associatedSqlOperationId=ca6e33dc-e27b-4de0-80c8-68226f1d98f2?project=coastal-stream-464319-q3\">Spark Query</a> (Operation: ca6e33dc-e27b-4de0-80c8-68226f1d98f2)</p>\n",
              "              </div>\n",
              "              "
            ]
          },
          "metadata": {}
        },
        {
          "output_type": "stream",
          "name": "stdout",
          "text": [
            "+--------+---------------+------------+--------------------+---------------------+\n",
            "|VendorID|passenger_count|total_amount|tpep_pickup_datetime|tpep_dropoff_datetime|\n",
            "+--------+---------------+------------+--------------------+---------------------+\n",
            "|       2|            1.0|        14.3| 2023-01-01 00:32:10|  2023-01-01 00:40:36|\n",
            "|       2|            1.0|        16.9| 2023-01-01 00:55:08|  2023-01-01 01:01:27|\n",
            "|       2|            1.0|        34.9| 2023-01-01 00:25:04|  2023-01-01 00:37:49|\n",
            "|       1|            0.0|       20.85| 2023-01-01 00:03:48|  2023-01-01 00:13:25|\n",
            "|       2|            1.0|       19.68| 2023-01-01 00:10:29|  2023-01-01 00:21:19|\n",
            "+--------+---------------+------------+--------------------+---------------------+\n",
            "only showing top 5 rows\n",
            "\n",
            "Escrevendo tabela consolidada para BigQuery: coastal-stream-464319-q3.nyc_taxi_data.yellow_tripdata\n"
          ]
        },
        {
          "output_type": "display_data",
          "data": {
            "text/plain": [
              "<IPython.core.display.HTML object>"
            ],
            "text/html": [
              "\n",
              "              <div>\n",
              "                  <p><a href=\"https://console.cloud.google.com/dataproc/interactive/southamerica-east1/sc-20250811-230541-4tualv/sparkApplications/application;associatedSqlOperationId=f1901dae-0511-48bb-be79-ac39089127c9?project=coastal-stream-464319-q3\">Spark Query</a> (Operation: f1901dae-0511-48bb-be79-ac39089127c9)</p>\n",
              "              </div>\n",
              "              "
            ]
          },
          "metadata": {}
        },
        {
          "output_type": "stream",
          "name": "stdout",
          "text": [
            "✓ Tabela coastal-stream-464319-q3.nyc_taxi_data.yellow_tripdata criada com sucesso no BigQuery\n",
            "\n",
            "Consolidando todos os meses para green_tripdata...\n"
          ]
        },
        {
          "output_type": "display_data",
          "data": {
            "text/plain": [
              "<IPython.core.display.HTML object>"
            ],
            "text/html": [
              "\n",
              "              <div>\n",
              "                  <p><a href=\"https://console.cloud.google.com/dataproc/interactive/southamerica-east1/sc-20250811-230541-4tualv/sparkApplications/application;associatedSqlOperationId=d87f439a-dc28-4609-b6ae-d6085f169822?project=coastal-stream-464319-q3\">Spark Query</a> (Operation: d87f439a-dc28-4609-b6ae-d6085f169822)</p>\n",
              "              </div>\n",
              "              "
            ]
          },
          "metadata": {}
        },
        {
          "output_type": "stream",
          "name": "stdout",
          "text": [
            "Total de registros para green_tripdata: 339630\n",
            "Amostra de dados consolidados para green_tripdata:\n"
          ]
        },
        {
          "output_type": "display_data",
          "data": {
            "text/plain": [
              "<IPython.core.display.HTML object>"
            ],
            "text/html": [
              "\n",
              "              <div>\n",
              "                  <p><a href=\"https://console.cloud.google.com/dataproc/interactive/southamerica-east1/sc-20250811-230541-4tualv/sparkApplications/application;associatedSqlOperationId=ccddd046-c6eb-43e6-9d7f-e17865f863cb?project=coastal-stream-464319-q3\">Spark Query</a> (Operation: ccddd046-c6eb-43e6-9d7f-e17865f863cb)</p>\n",
              "              </div>\n",
              "              "
            ]
          },
          "metadata": {}
        },
        {
          "output_type": "stream",
          "name": "stdout",
          "text": [
            "+--------+---------------+------------+--------------------+---------------------+\n",
            "|VendorID|passenger_count|total_amount|tpep_pickup_datetime|tpep_dropoff_datetime|\n",
            "+--------+---------------+------------+--------------------+---------------------+\n",
            "|       2|            1.0|       24.18| 2023-01-01 00:26:10|  2023-01-01 00:37:11|\n",
            "|       2|            1.0|       15.84| 2023-01-01 00:51:03|  2023-01-01 00:57:49|\n",
            "|       2|            1.0|       11.64| 2023-01-01 00:35:12|  2023-01-01 00:41:32|\n",
            "|       1|            1.0|        10.2| 2023-01-01 00:13:14|  2023-01-01 00:19:03|\n",
            "|       1|            1.0|         8.0| 2023-01-01 00:33:04|  2023-01-01 00:39:02|\n",
            "+--------+---------------+------------+--------------------+---------------------+\n",
            "only showing top 5 rows\n",
            "\n",
            "Escrevendo tabela consolidada para BigQuery: coastal-stream-464319-q3.nyc_taxi_data.green_tripdata\n"
          ]
        },
        {
          "output_type": "display_data",
          "data": {
            "text/plain": [
              "<IPython.core.display.HTML object>"
            ],
            "text/html": [
              "\n",
              "              <div>\n",
              "                  <p><a href=\"https://console.cloud.google.com/dataproc/interactive/southamerica-east1/sc-20250811-230541-4tualv/sparkApplications/application;associatedSqlOperationId=fe42d9f7-cf83-43c1-81d3-0309f51a1479?project=coastal-stream-464319-q3\">Spark Query</a> (Operation: fe42d9f7-cf83-43c1-81d3-0309f51a1479)</p>\n",
              "              </div>\n",
              "              "
            ]
          },
          "metadata": {}
        },
        {
          "output_type": "stream",
          "name": "stdout",
          "text": [
            "✓ Tabela coastal-stream-464319-q3.nyc_taxi_data.green_tripdata criada com sucesso no BigQuery\n",
            "\n",
            "Processamento completo! Todas as tabelas foram criadas no BigQuery.\n"
          ]
        }
      ]
    }
  ]
}