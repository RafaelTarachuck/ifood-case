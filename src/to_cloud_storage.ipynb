{
  "nbformat": 4,
  "nbformat_minor": 0,
  "metadata": {
    "colab": {
      "cell_execution_strategy": "setup",
      "provenance": [],
      "name": "teste_ifood"
    },
    "kernelspec": {
      "name": "python3",
      "display_name": "Python 3"
    },
    "language_info": {
      "name": "python"
    }
  },
  "cells": [
    {
      "cell_type": "code",
      "source": [
        "from google.cloud.dataproc_spark_connect import DataprocSparkSession\n",
        "import requests\n",
        "from datetime import datetime, timedelta\n",
        "import os\n",
        "from google.cloud import storage\n",
        "\n",
        "# Configuração para o Google Cloud Storage\n",
        "project_id = \"coastal-stream-464319-q3\"\n",
        "gcs_bucket = \"teste_ifood\"\n",
        "gcs_path = f\"gs://{gcs_bucket}/nyc_data/\"\n",
        "\n",
        "# Inicializar cliente Storage\n",
        "storage_client = storage.Client(project=project_id)\n",
        "bucket = storage_client.bucket(gcs_bucket)\n",
        "\n",
        "# Diretório temporário local\n",
        "temp_dir = \"/tmp/nyc_data/\"\n",
        "\n",
        "# Criar o diretório temporário\n",
        "if not os.path.exists(temp_dir):\n",
        "    os.makedirs(temp_dir)\n",
        "    print(f\"Diretório temporário criado: {temp_dir}\")\n",
        "\n",
        "# Função para baixar arquivos\n",
        "def download_file(url, local_path):\n",
        "    try:\n",
        "        response = requests.get(url)\n",
        "        response.raise_for_status()\n",
        "        with open(local_path, 'wb') as file:\n",
        "            file.write(response.content)\n",
        "        print(f\"Arquivo baixado para {local_path}\")\n",
        "        return True\n",
        "    except Exception as e:\n",
        "        print(f\"Erro ao baixar arquivo de {url}: {str(e)}\")\n",
        "        return False\n",
        "\n",
        "# Função para fazer upload para o GCS\n",
        "def upload_to_gcs(local_path, gcs_blob_name):\n",
        "    try:\n",
        "        blob = bucket.blob(gcs_blob_name)\n",
        "        blob.upload_from_filename(local_path)\n",
        "        print(f\"Arquivo enviado para gs://{gcs_bucket}/{gcs_blob_name}\")\n",
        "        return f\"gs://{gcs_bucket}/{gcs_blob_name}\"\n",
        "    except Exception as e:\n",
        "        print(f\"Erro ao fazer upload para GCS: {str(e)}\")\n",
        "        return None\n",
        "\n",
        "# Inicializar Spark com suporte a Delta\n",
        "print(\"Iniciando sessão Spark...\")\n",
        "spark = DataprocSparkSession.builder \\\n",
        "    .appName(\"NYC Taxi Data Delta\") \\\n",
        "    .config(\"spark.jars.packages\", \"io.delta:delta-core_2.12:2.2.0\") \\\n",
        "    .config(\"spark.sql.extensions\", \"io.delta.sql.DeltaSparkSessionExtension\") \\\n",
        "    .config(\"spark.sql.catalog.spark_catalog\", \"org.apache.spark.sql.delta.catalog.DeltaCatalog\") \\\n",
        "    .getOrCreate()\n",
        "print(\"Sessão Spark iniciada\")\n",
        "\n",
        "# Parâmetros\n",
        "base_url = \"https://d37ci6vzurychx.cloudfront.net/trip-data/\"\n",
        "file_names = [\"yellow_tripdata_\", \"green_tripdata_\"]\n",
        "start_date = \"2023-01\"\n",
        "end_date = \"2023-05\"\n",
        "\n",
        "# Gerar lista de meses\n",
        "start = datetime.strptime(start_date, \"%Y-%m\")\n",
        "end = datetime.strptime(end_date, \"%Y-%m\")\n",
        "months = []\n",
        "current = start\n",
        "while current <= end:\n",
        "    months.append(current.strftime(\"%Y-%m\"))\n",
        "    current += timedelta(days=32)\n",
        "    current = current.replace(day=1)\n",
        "\n",
        "print(f\"Processando meses: {', '.join(months)}\")\n",
        "\n",
        "# Loop para cada combinação de arquivo e mês\n",
        "for file_name in file_names:\n",
        "    # Extrair o nome da pasta removendo o underscore final\n",
        "    folder_name = file_name.rstrip(\"_\")\n",
        "    print(f\"\\nProcessando arquivos {folder_name}...\")\n",
        "\n",
        "    for month in months:\n",
        "        file_url = f\"{base_url}{file_name}{month}.parquet\"\n",
        "        local_file_path = f\"{temp_dir}{file_name}{month}.parquet\"\n",
        "        gcs_temp_path = f\"nyc_data/temp/{file_name}{month}.parquet\"\n",
        "        delta_path = f\"{gcs_path}{folder_name}_delta/{month}\"\n",
        "\n",
        "        print(f\"Baixando {file_name}{month}...\")\n",
        "        if download_file(file_url, local_file_path):\n",
        "            # Fazer upload para o GCS temporariamente\n",
        "            print(f\"Enviando {file_name}{month} para o GCS...\")\n",
        "            gcs_uri = upload_to_gcs(local_file_path, gcs_temp_path)\n",
        "\n",
        "            if gcs_uri:\n",
        "                print(f\"Lendo {file_name}{month} com Spark do GCS...\")\n",
        "                try:\n",
        "                    # Ler o arquivo Parquet do GCS com Spark\n",
        "                    df = spark.read.parquet(gcs_uri)\n",
        "\n",
        "                    # Mostrar quantidade de registros e schema\n",
        "                    count = df.count()\n",
        "                    print(f\"Arquivo {file_name}{month} contém {count} registros\")\n",
        "                    print(\"Estrutura do DataFrame:\")\n",
        "                    df.printSchema()\n",
        "\n",
        "                    # Salvar como Delta Lake\n",
        "                    print(f\"Salvando {file_name}{month} como Delta Lake em {delta_path}...\")\n",
        "                    df.write \\\n",
        "                        .format(\"delta\") \\\n",
        "                        .mode(\"overwrite\") \\\n",
        "                        .save(delta_path)\n",
        "                    print(f\"✓ Arquivo {file_name}{month} salvo como Delta Lake em {delta_path}\")\n",
        "\n",
        "                except Exception as e:\n",
        "                    print(f\"✗ Erro ao processar {file_name}{month} com Spark: {str(e)}\")\n",
        "            else:\n",
        "                print(f\"✗ Falha no upload para GCS, pulando processamento\")\n",
        "        else:\n",
        "            print(f\"✗ Falha ao baixar {file_name}{month}, pulando processamento\")\n",
        "\n",
        "        # Remover arquivo local para economizar espaço\n",
        "        if os.path.exists(local_file_path):\n",
        "            os.remove(local_file_path)\n",
        "            print(f\"Arquivo local {local_file_path} removido\")\n",
        "\n",
        "# Encerrar a sessão Spark\n",
        "spark.stop()\n",
        "print(\"\\nProcessamento concluído!\")"
      ],
      "metadata": {
        "id": "p2NN8wwF7YRa",
        "colab": {
          "base_uri": "https://localhost:8080/",
          "height": 1000
        },
        "outputId": "00f58ea1-f992-4ee7-b14f-8642297e2285"
      },
      "execution_count": 13,
      "outputs": [
        {
          "output_type": "stream",
          "name": "stdout",
          "text": [
            "Iniciando sessão Spark...\n",
            "Using existing Dataproc Session (configuration changes may not be applied): https://console.cloud.google.com/dataproc/interactive/southamerica-east1/sc-20250811-210502-8nv3ck?project=coastal-stream-464319-q3\n",
            "Sessão Spark iniciada\n",
            "Processando meses: 2023-01, 2023-02, 2023-03, 2023-04, 2023-05\n",
            "\n",
            "Processando arquivos yellow_tripdata...\n",
            "Baixando yellow_tripdata_2023-01...\n",
            "Arquivo baixado para /tmp/nyc_data/yellow_tripdata_2023-01.parquet\n",
            "Enviando yellow_tripdata_2023-01 para o GCS...\n",
            "Arquivo enviado para gs://teste_ifood/nyc_data/temp/yellow_tripdata_2023-01.parquet\n",
            "Lendo yellow_tripdata_2023-01 com Spark do GCS...\n"
          ]
        },
        {
          "output_type": "display_data",
          "data": {
            "text/plain": [
              "<IPython.core.display.HTML object>"
            ],
            "text/html": [
              "\n",
              "              <div>\n",
              "                  <p><a href=\"https://console.cloud.google.com/dataproc/interactive/southamerica-east1/sc-20250811-210502-8nv3ck/sparkApplications/application;associatedSqlOperationId=216526a6-5a8c-4593-85e8-1cf0b63f4d13?project=coastal-stream-464319-q3\">Spark Query</a> (Operation: 216526a6-5a8c-4593-85e8-1cf0b63f4d13)</p>\n",
              "              </div>\n",
              "              "
            ]
          },
          "metadata": {}
        },
        {
          "output_type": "stream",
          "name": "stdout",
          "text": [
            "Arquivo yellow_tripdata_2023-01 contém 3066766 registros\n",
            "Estrutura do DataFrame:\n",
            "root\n",
            " |-- VendorID: long (nullable = true)\n",
            " |-- tpep_pickup_datetime: timestamp_ntz (nullable = true)\n",
            " |-- tpep_dropoff_datetime: timestamp_ntz (nullable = true)\n",
            " |-- passenger_count: double (nullable = true)\n",
            " |-- trip_distance: double (nullable = true)\n",
            " |-- RatecodeID: double (nullable = true)\n",
            " |-- store_and_fwd_flag: string (nullable = true)\n",
            " |-- PULocationID: long (nullable = true)\n",
            " |-- DOLocationID: long (nullable = true)\n",
            " |-- payment_type: long (nullable = true)\n",
            " |-- fare_amount: double (nullable = true)\n",
            " |-- extra: double (nullable = true)\n",
            " |-- mta_tax: double (nullable = true)\n",
            " |-- tip_amount: double (nullable = true)\n",
            " |-- tolls_amount: double (nullable = true)\n",
            " |-- improvement_surcharge: double (nullable = true)\n",
            " |-- total_amount: double (nullable = true)\n",
            " |-- congestion_surcharge: double (nullable = true)\n",
            " |-- airport_fee: double (nullable = true)\n",
            "\n",
            "Salvando yellow_tripdata_2023-01 como Delta Lake em gs://teste_ifood/nyc_data/yellow_tripdata_delta/2023-01...\n"
          ]
        },
        {
          "output_type": "display_data",
          "data": {
            "text/plain": [
              "<IPython.core.display.HTML object>"
            ],
            "text/html": [
              "\n",
              "              <div>\n",
              "                  <p><a href=\"https://console.cloud.google.com/dataproc/interactive/southamerica-east1/sc-20250811-210502-8nv3ck/sparkApplications/application;associatedSqlOperationId=51018208-dcb6-4efc-b16b-61cf0848de79?project=coastal-stream-464319-q3\">Spark Query</a> (Operation: 51018208-dcb6-4efc-b16b-61cf0848de79)</p>\n",
              "              </div>\n",
              "              "
            ]
          },
          "metadata": {}
        },
        {
          "output_type": "stream",
          "name": "stdout",
          "text": [
            "✓ Arquivo yellow_tripdata_2023-01 salvo como Delta Lake em gs://teste_ifood/nyc_data/yellow_tripdata_delta/2023-01\n",
            "Arquivo local /tmp/nyc_data/yellow_tripdata_2023-01.parquet removido\n",
            "Baixando yellow_tripdata_2023-02...\n",
            "Arquivo baixado para /tmp/nyc_data/yellow_tripdata_2023-02.parquet\n",
            "Enviando yellow_tripdata_2023-02 para o GCS...\n",
            "Arquivo enviado para gs://teste_ifood/nyc_data/temp/yellow_tripdata_2023-02.parquet\n",
            "Lendo yellow_tripdata_2023-02 com Spark do GCS...\n"
          ]
        },
        {
          "output_type": "display_data",
          "data": {
            "text/plain": [
              "<IPython.core.display.HTML object>"
            ],
            "text/html": [
              "\n",
              "              <div>\n",
              "                  <p><a href=\"https://console.cloud.google.com/dataproc/interactive/southamerica-east1/sc-20250811-210502-8nv3ck/sparkApplications/application;associatedSqlOperationId=063b589d-31bc-46af-b65f-a89a9afe23ee?project=coastal-stream-464319-q3\">Spark Query</a> (Operation: 063b589d-31bc-46af-b65f-a89a9afe23ee)</p>\n",
              "              </div>\n",
              "              "
            ]
          },
          "metadata": {}
        },
        {
          "output_type": "stream",
          "name": "stdout",
          "text": [
            "Arquivo yellow_tripdata_2023-02 contém 2913955 registros\n",
            "Estrutura do DataFrame:\n",
            "root\n",
            " |-- VendorID: integer (nullable = true)\n",
            " |-- tpep_pickup_datetime: timestamp_ntz (nullable = true)\n",
            " |-- tpep_dropoff_datetime: timestamp_ntz (nullable = true)\n",
            " |-- passenger_count: long (nullable = true)\n",
            " |-- trip_distance: double (nullable = true)\n",
            " |-- RatecodeID: long (nullable = true)\n",
            " |-- store_and_fwd_flag: string (nullable = true)\n",
            " |-- PULocationID: integer (nullable = true)\n",
            " |-- DOLocationID: integer (nullable = true)\n",
            " |-- payment_type: long (nullable = true)\n",
            " |-- fare_amount: double (nullable = true)\n",
            " |-- extra: double (nullable = true)\n",
            " |-- mta_tax: double (nullable = true)\n",
            " |-- tip_amount: double (nullable = true)\n",
            " |-- tolls_amount: double (nullable = true)\n",
            " |-- improvement_surcharge: double (nullable = true)\n",
            " |-- total_amount: double (nullable = true)\n",
            " |-- congestion_surcharge: double (nullable = true)\n",
            " |-- Airport_fee: double (nullable = true)\n",
            "\n",
            "Salvando yellow_tripdata_2023-02 como Delta Lake em gs://teste_ifood/nyc_data/yellow_tripdata_delta/2023-02...\n"
          ]
        },
        {
          "output_type": "display_data",
          "data": {
            "text/plain": [
              "<IPython.core.display.HTML object>"
            ],
            "text/html": [
              "\n",
              "              <div>\n",
              "                  <p><a href=\"https://console.cloud.google.com/dataproc/interactive/southamerica-east1/sc-20250811-210502-8nv3ck/sparkApplications/application;associatedSqlOperationId=9a56950e-5f0c-40bb-9f67-2c14fa7f2c1d?project=coastal-stream-464319-q3\">Spark Query</a> (Operation: 9a56950e-5f0c-40bb-9f67-2c14fa7f2c1d)</p>\n",
              "              </div>\n",
              "              "
            ]
          },
          "metadata": {}
        },
        {
          "output_type": "stream",
          "name": "stdout",
          "text": [
            "✓ Arquivo yellow_tripdata_2023-02 salvo como Delta Lake em gs://teste_ifood/nyc_data/yellow_tripdata_delta/2023-02\n",
            "Arquivo local /tmp/nyc_data/yellow_tripdata_2023-02.parquet removido\n",
            "Baixando yellow_tripdata_2023-03...\n",
            "Arquivo baixado para /tmp/nyc_data/yellow_tripdata_2023-03.parquet\n",
            "Enviando yellow_tripdata_2023-03 para o GCS...\n",
            "Arquivo enviado para gs://teste_ifood/nyc_data/temp/yellow_tripdata_2023-03.parquet\n",
            "Lendo yellow_tripdata_2023-03 com Spark do GCS...\n"
          ]
        },
        {
          "output_type": "display_data",
          "data": {
            "text/plain": [
              "<IPython.core.display.HTML object>"
            ],
            "text/html": [
              "\n",
              "              <div>\n",
              "                  <p><a href=\"https://console.cloud.google.com/dataproc/interactive/southamerica-east1/sc-20250811-210502-8nv3ck/sparkApplications/application;associatedSqlOperationId=88a92488-a374-4fd0-933d-fa2f804926e2?project=coastal-stream-464319-q3\">Spark Query</a> (Operation: 88a92488-a374-4fd0-933d-fa2f804926e2)</p>\n",
              "              </div>\n",
              "              "
            ]
          },
          "metadata": {}
        },
        {
          "output_type": "stream",
          "name": "stdout",
          "text": [
            "Arquivo yellow_tripdata_2023-03 contém 3403766 registros\n",
            "Estrutura do DataFrame:\n",
            "root\n",
            " |-- VendorID: integer (nullable = true)\n",
            " |-- tpep_pickup_datetime: timestamp_ntz (nullable = true)\n",
            " |-- tpep_dropoff_datetime: timestamp_ntz (nullable = true)\n",
            " |-- passenger_count: long (nullable = true)\n",
            " |-- trip_distance: double (nullable = true)\n",
            " |-- RatecodeID: long (nullable = true)\n",
            " |-- store_and_fwd_flag: string (nullable = true)\n",
            " |-- PULocationID: integer (nullable = true)\n",
            " |-- DOLocationID: integer (nullable = true)\n",
            " |-- payment_type: long (nullable = true)\n",
            " |-- fare_amount: double (nullable = true)\n",
            " |-- extra: double (nullable = true)\n",
            " |-- mta_tax: double (nullable = true)\n",
            " |-- tip_amount: double (nullable = true)\n",
            " |-- tolls_amount: double (nullable = true)\n",
            " |-- improvement_surcharge: double (nullable = true)\n",
            " |-- total_amount: double (nullable = true)\n",
            " |-- congestion_surcharge: double (nullable = true)\n",
            " |-- Airport_fee: double (nullable = true)\n",
            "\n",
            "Salvando yellow_tripdata_2023-03 como Delta Lake em gs://teste_ifood/nyc_data/yellow_tripdata_delta/2023-03...\n"
          ]
        },
        {
          "output_type": "display_data",
          "data": {
            "text/plain": [
              "<IPython.core.display.HTML object>"
            ],
            "text/html": [
              "\n",
              "              <div>\n",
              "                  <p><a href=\"https://console.cloud.google.com/dataproc/interactive/southamerica-east1/sc-20250811-210502-8nv3ck/sparkApplications/application;associatedSqlOperationId=4edc0f21-0103-46c0-b6f5-7b0b6c0cf1c2?project=coastal-stream-464319-q3\">Spark Query</a> (Operation: 4edc0f21-0103-46c0-b6f5-7b0b6c0cf1c2)</p>\n",
              "              </div>\n",
              "              "
            ]
          },
          "metadata": {}
        },
        {
          "output_type": "stream",
          "name": "stdout",
          "text": [
            "✓ Arquivo yellow_tripdata_2023-03 salvo como Delta Lake em gs://teste_ifood/nyc_data/yellow_tripdata_delta/2023-03\n",
            "Arquivo local /tmp/nyc_data/yellow_tripdata_2023-03.parquet removido\n",
            "Baixando yellow_tripdata_2023-04...\n",
            "Arquivo baixado para /tmp/nyc_data/yellow_tripdata_2023-04.parquet\n",
            "Enviando yellow_tripdata_2023-04 para o GCS...\n",
            "Arquivo enviado para gs://teste_ifood/nyc_data/temp/yellow_tripdata_2023-04.parquet\n",
            "Lendo yellow_tripdata_2023-04 com Spark do GCS...\n"
          ]
        },
        {
          "output_type": "display_data",
          "data": {
            "text/plain": [
              "<IPython.core.display.HTML object>"
            ],
            "text/html": [
              "\n",
              "              <div>\n",
              "                  <p><a href=\"https://console.cloud.google.com/dataproc/interactive/southamerica-east1/sc-20250811-210502-8nv3ck/sparkApplications/application;associatedSqlOperationId=02934545-95d0-47f0-aed6-0db89d5975d0?project=coastal-stream-464319-q3\">Spark Query</a> (Operation: 02934545-95d0-47f0-aed6-0db89d5975d0)</p>\n",
              "              </div>\n",
              "              "
            ]
          },
          "metadata": {}
        },
        {
          "output_type": "stream",
          "name": "stdout",
          "text": [
            "Arquivo yellow_tripdata_2023-04 contém 3288250 registros\n",
            "Estrutura do DataFrame:\n",
            "root\n",
            " |-- VendorID: integer (nullable = true)\n",
            " |-- tpep_pickup_datetime: timestamp_ntz (nullable = true)\n",
            " |-- tpep_dropoff_datetime: timestamp_ntz (nullable = true)\n",
            " |-- passenger_count: long (nullable = true)\n",
            " |-- trip_distance: double (nullable = true)\n",
            " |-- RatecodeID: long (nullable = true)\n",
            " |-- store_and_fwd_flag: string (nullable = true)\n",
            " |-- PULocationID: integer (nullable = true)\n",
            " |-- DOLocationID: integer (nullable = true)\n",
            " |-- payment_type: long (nullable = true)\n",
            " |-- fare_amount: double (nullable = true)\n",
            " |-- extra: double (nullable = true)\n",
            " |-- mta_tax: double (nullable = true)\n",
            " |-- tip_amount: double (nullable = true)\n",
            " |-- tolls_amount: double (nullable = true)\n",
            " |-- improvement_surcharge: double (nullable = true)\n",
            " |-- total_amount: double (nullable = true)\n",
            " |-- congestion_surcharge: double (nullable = true)\n",
            " |-- Airport_fee: double (nullable = true)\n",
            "\n",
            "Salvando yellow_tripdata_2023-04 como Delta Lake em gs://teste_ifood/nyc_data/yellow_tripdata_delta/2023-04...\n"
          ]
        },
        {
          "output_type": "display_data",
          "data": {
            "text/plain": [
              "<IPython.core.display.HTML object>"
            ],
            "text/html": [
              "\n",
              "              <div>\n",
              "                  <p><a href=\"https://console.cloud.google.com/dataproc/interactive/southamerica-east1/sc-20250811-210502-8nv3ck/sparkApplications/application;associatedSqlOperationId=6ca2ef36-df67-422d-b432-915ec86f7a68?project=coastal-stream-464319-q3\">Spark Query</a> (Operation: 6ca2ef36-df67-422d-b432-915ec86f7a68)</p>\n",
              "              </div>\n",
              "              "
            ]
          },
          "metadata": {}
        },
        {
          "output_type": "stream",
          "name": "stdout",
          "text": [
            "✓ Arquivo yellow_tripdata_2023-04 salvo como Delta Lake em gs://teste_ifood/nyc_data/yellow_tripdata_delta/2023-04\n",
            "Arquivo local /tmp/nyc_data/yellow_tripdata_2023-04.parquet removido\n",
            "Baixando yellow_tripdata_2023-05...\n",
            "Arquivo baixado para /tmp/nyc_data/yellow_tripdata_2023-05.parquet\n",
            "Enviando yellow_tripdata_2023-05 para o GCS...\n",
            "Arquivo enviado para gs://teste_ifood/nyc_data/temp/yellow_tripdata_2023-05.parquet\n",
            "Lendo yellow_tripdata_2023-05 com Spark do GCS...\n"
          ]
        },
        {
          "output_type": "display_data",
          "data": {
            "text/plain": [
              "<IPython.core.display.HTML object>"
            ],
            "text/html": [
              "\n",
              "              <div>\n",
              "                  <p><a href=\"https://console.cloud.google.com/dataproc/interactive/southamerica-east1/sc-20250811-210502-8nv3ck/sparkApplications/application;associatedSqlOperationId=df602c2d-360f-41c3-b989-76a19737f92a?project=coastal-stream-464319-q3\">Spark Query</a> (Operation: df602c2d-360f-41c3-b989-76a19737f92a)</p>\n",
              "              </div>\n",
              "              "
            ]
          },
          "metadata": {}
        },
        {
          "output_type": "stream",
          "name": "stdout",
          "text": [
            "Arquivo yellow_tripdata_2023-05 contém 3513649 registros\n",
            "Estrutura do DataFrame:\n",
            "root\n",
            " |-- VendorID: integer (nullable = true)\n",
            " |-- tpep_pickup_datetime: timestamp_ntz (nullable = true)\n",
            " |-- tpep_dropoff_datetime: timestamp_ntz (nullable = true)\n",
            " |-- passenger_count: long (nullable = true)\n",
            " |-- trip_distance: double (nullable = true)\n",
            " |-- RatecodeID: long (nullable = true)\n",
            " |-- store_and_fwd_flag: string (nullable = true)\n",
            " |-- PULocationID: integer (nullable = true)\n",
            " |-- DOLocationID: integer (nullable = true)\n",
            " |-- payment_type: long (nullable = true)\n",
            " |-- fare_amount: double (nullable = true)\n",
            " |-- extra: double (nullable = true)\n",
            " |-- mta_tax: double (nullable = true)\n",
            " |-- tip_amount: double (nullable = true)\n",
            " |-- tolls_amount: double (nullable = true)\n",
            " |-- improvement_surcharge: double (nullable = true)\n",
            " |-- total_amount: double (nullable = true)\n",
            " |-- congestion_surcharge: double (nullable = true)\n",
            " |-- Airport_fee: double (nullable = true)\n",
            "\n",
            "Salvando yellow_tripdata_2023-05 como Delta Lake em gs://teste_ifood/nyc_data/yellow_tripdata_delta/2023-05...\n"
          ]
        },
        {
          "output_type": "display_data",
          "data": {
            "text/plain": [
              "<IPython.core.display.HTML object>"
            ],
            "text/html": [
              "\n",
              "              <div>\n",
              "                  <p><a href=\"https://console.cloud.google.com/dataproc/interactive/southamerica-east1/sc-20250811-210502-8nv3ck/sparkApplications/application;associatedSqlOperationId=c2468e83-2e6e-475b-9eb7-5345f0719d25?project=coastal-stream-464319-q3\">Spark Query</a> (Operation: c2468e83-2e6e-475b-9eb7-5345f0719d25)</p>\n",
              "              </div>\n",
              "              "
            ]
          },
          "metadata": {}
        },
        {
          "output_type": "stream",
          "name": "stdout",
          "text": [
            "✓ Arquivo yellow_tripdata_2023-05 salvo como Delta Lake em gs://teste_ifood/nyc_data/yellow_tripdata_delta/2023-05\n",
            "Arquivo local /tmp/nyc_data/yellow_tripdata_2023-05.parquet removido\n",
            "\n",
            "Processando arquivos green_tripdata...\n",
            "Baixando green_tripdata_2023-01...\n",
            "Arquivo baixado para /tmp/nyc_data/green_tripdata_2023-01.parquet\n",
            "Enviando green_tripdata_2023-01 para o GCS...\n",
            "Arquivo enviado para gs://teste_ifood/nyc_data/temp/green_tripdata_2023-01.parquet\n",
            "Lendo green_tripdata_2023-01 com Spark do GCS...\n"
          ]
        },
        {
          "output_type": "display_data",
          "data": {
            "text/plain": [
              "<IPython.core.display.HTML object>"
            ],
            "text/html": [
              "\n",
              "              <div>\n",
              "                  <p><a href=\"https://console.cloud.google.com/dataproc/interactive/southamerica-east1/sc-20250811-210502-8nv3ck/sparkApplications/application;associatedSqlOperationId=eefa9cc8-63b5-4583-8237-1ccf1b8f69fb?project=coastal-stream-464319-q3\">Spark Query</a> (Operation: eefa9cc8-63b5-4583-8237-1ccf1b8f69fb)</p>\n",
              "              </div>\n",
              "              "
            ]
          },
          "metadata": {}
        },
        {
          "output_type": "stream",
          "name": "stdout",
          "text": [
            "Arquivo green_tripdata_2023-01 contém 68211 registros\n",
            "Estrutura do DataFrame:\n",
            "root\n",
            " |-- VendorID: long (nullable = true)\n",
            " |-- lpep_pickup_datetime: timestamp_ntz (nullable = true)\n",
            " |-- lpep_dropoff_datetime: timestamp_ntz (nullable = true)\n",
            " |-- store_and_fwd_flag: string (nullable = true)\n",
            " |-- RatecodeID: double (nullable = true)\n",
            " |-- PULocationID: long (nullable = true)\n",
            " |-- DOLocationID: long (nullable = true)\n",
            " |-- passenger_count: double (nullable = true)\n",
            " |-- trip_distance: double (nullable = true)\n",
            " |-- fare_amount: double (nullable = true)\n",
            " |-- extra: double (nullable = true)\n",
            " |-- mta_tax: double (nullable = true)\n",
            " |-- tip_amount: double (nullable = true)\n",
            " |-- tolls_amount: double (nullable = true)\n",
            " |-- ehail_fee: integer (nullable = true)\n",
            " |-- improvement_surcharge: double (nullable = true)\n",
            " |-- total_amount: double (nullable = true)\n",
            " |-- payment_type: double (nullable = true)\n",
            " |-- trip_type: double (nullable = true)\n",
            " |-- congestion_surcharge: double (nullable = true)\n",
            "\n",
            "Salvando green_tripdata_2023-01 como Delta Lake em gs://teste_ifood/nyc_data/green_tripdata_delta/2023-01...\n"
          ]
        },
        {
          "output_type": "display_data",
          "data": {
            "text/plain": [
              "<IPython.core.display.HTML object>"
            ],
            "text/html": [
              "\n",
              "              <div>\n",
              "                  <p><a href=\"https://console.cloud.google.com/dataproc/interactive/southamerica-east1/sc-20250811-210502-8nv3ck/sparkApplications/application;associatedSqlOperationId=c3b066cf-16bc-4ca8-907d-25d543911b68?project=coastal-stream-464319-q3\">Spark Query</a> (Operation: c3b066cf-16bc-4ca8-907d-25d543911b68)</p>\n",
              "              </div>\n",
              "              "
            ]
          },
          "metadata": {}
        },
        {
          "output_type": "stream",
          "name": "stdout",
          "text": [
            "✓ Arquivo green_tripdata_2023-01 salvo como Delta Lake em gs://teste_ifood/nyc_data/green_tripdata_delta/2023-01\n",
            "Arquivo local /tmp/nyc_data/green_tripdata_2023-01.parquet removido\n",
            "Baixando green_tripdata_2023-02...\n",
            "Arquivo baixado para /tmp/nyc_data/green_tripdata_2023-02.parquet\n",
            "Enviando green_tripdata_2023-02 para o GCS...\n",
            "Arquivo enviado para gs://teste_ifood/nyc_data/temp/green_tripdata_2023-02.parquet\n",
            "Lendo green_tripdata_2023-02 com Spark do GCS...\n"
          ]
        },
        {
          "output_type": "display_data",
          "data": {
            "text/plain": [
              "<IPython.core.display.HTML object>"
            ],
            "text/html": [
              "\n",
              "              <div>\n",
              "                  <p><a href=\"https://console.cloud.google.com/dataproc/interactive/southamerica-east1/sc-20250811-210502-8nv3ck/sparkApplications/application;associatedSqlOperationId=5a125537-48ea-41d5-aa75-1f1403899f16?project=coastal-stream-464319-q3\">Spark Query</a> (Operation: 5a125537-48ea-41d5-aa75-1f1403899f16)</p>\n",
              "              </div>\n",
              "              "
            ]
          },
          "metadata": {}
        },
        {
          "output_type": "stream",
          "name": "stdout",
          "text": [
            "Arquivo green_tripdata_2023-02 contém 64809 registros\n",
            "Estrutura do DataFrame:\n",
            "root\n",
            " |-- VendorID: integer (nullable = true)\n",
            " |-- lpep_pickup_datetime: timestamp_ntz (nullable = true)\n",
            " |-- lpep_dropoff_datetime: timestamp_ntz (nullable = true)\n",
            " |-- store_and_fwd_flag: string (nullable = true)\n",
            " |-- RatecodeID: long (nullable = true)\n",
            " |-- PULocationID: integer (nullable = true)\n",
            " |-- DOLocationID: integer (nullable = true)\n",
            " |-- passenger_count: long (nullable = true)\n",
            " |-- trip_distance: double (nullable = true)\n",
            " |-- fare_amount: double (nullable = true)\n",
            " |-- extra: double (nullable = true)\n",
            " |-- mta_tax: double (nullable = true)\n",
            " |-- tip_amount: double (nullable = true)\n",
            " |-- tolls_amount: double (nullable = true)\n",
            " |-- ehail_fee: double (nullable = true)\n",
            " |-- improvement_surcharge: double (nullable = true)\n",
            " |-- total_amount: double (nullable = true)\n",
            " |-- payment_type: long (nullable = true)\n",
            " |-- trip_type: long (nullable = true)\n",
            " |-- congestion_surcharge: double (nullable = true)\n",
            "\n",
            "Salvando green_tripdata_2023-02 como Delta Lake em gs://teste_ifood/nyc_data/green_tripdata_delta/2023-02...\n"
          ]
        },
        {
          "output_type": "display_data",
          "data": {
            "text/plain": [
              "<IPython.core.display.HTML object>"
            ],
            "text/html": [
              "\n",
              "              <div>\n",
              "                  <p><a href=\"https://console.cloud.google.com/dataproc/interactive/southamerica-east1/sc-20250811-210502-8nv3ck/sparkApplications/application;associatedSqlOperationId=e93842cd-ba63-476a-a5b2-20d11126ff5f?project=coastal-stream-464319-q3\">Spark Query</a> (Operation: e93842cd-ba63-476a-a5b2-20d11126ff5f)</p>\n",
              "              </div>\n",
              "              "
            ]
          },
          "metadata": {}
        },
        {
          "output_type": "stream",
          "name": "stdout",
          "text": [
            "✓ Arquivo green_tripdata_2023-02 salvo como Delta Lake em gs://teste_ifood/nyc_data/green_tripdata_delta/2023-02\n",
            "Arquivo local /tmp/nyc_data/green_tripdata_2023-02.parquet removido\n",
            "Baixando green_tripdata_2023-03...\n",
            "Arquivo baixado para /tmp/nyc_data/green_tripdata_2023-03.parquet\n",
            "Enviando green_tripdata_2023-03 para o GCS...\n",
            "Arquivo enviado para gs://teste_ifood/nyc_data/temp/green_tripdata_2023-03.parquet\n",
            "Lendo green_tripdata_2023-03 com Spark do GCS...\n"
          ]
        },
        {
          "output_type": "display_data",
          "data": {
            "text/plain": [
              "<IPython.core.display.HTML object>"
            ],
            "text/html": [
              "\n",
              "              <div>\n",
              "                  <p><a href=\"https://console.cloud.google.com/dataproc/interactive/southamerica-east1/sc-20250811-210502-8nv3ck/sparkApplications/application;associatedSqlOperationId=9cb11bf7-0ac3-432d-a2ef-ffe272f98f45?project=coastal-stream-464319-q3\">Spark Query</a> (Operation: 9cb11bf7-0ac3-432d-a2ef-ffe272f98f45)</p>\n",
              "              </div>\n",
              "              "
            ]
          },
          "metadata": {}
        },
        {
          "output_type": "stream",
          "name": "stdout",
          "text": [
            "Arquivo green_tripdata_2023-03 contém 72044 registros\n",
            "Estrutura do DataFrame:\n",
            "root\n",
            " |-- VendorID: integer (nullable = true)\n",
            " |-- lpep_pickup_datetime: timestamp_ntz (nullable = true)\n",
            " |-- lpep_dropoff_datetime: timestamp_ntz (nullable = true)\n",
            " |-- store_and_fwd_flag: string (nullable = true)\n",
            " |-- RatecodeID: long (nullable = true)\n",
            " |-- PULocationID: integer (nullable = true)\n",
            " |-- DOLocationID: integer (nullable = true)\n",
            " |-- passenger_count: long (nullable = true)\n",
            " |-- trip_distance: double (nullable = true)\n",
            " |-- fare_amount: double (nullable = true)\n",
            " |-- extra: double (nullable = true)\n",
            " |-- mta_tax: double (nullable = true)\n",
            " |-- tip_amount: double (nullable = true)\n",
            " |-- tolls_amount: double (nullable = true)\n",
            " |-- ehail_fee: double (nullable = true)\n",
            " |-- improvement_surcharge: double (nullable = true)\n",
            " |-- total_amount: double (nullable = true)\n",
            " |-- payment_type: long (nullable = true)\n",
            " |-- trip_type: long (nullable = true)\n",
            " |-- congestion_surcharge: double (nullable = true)\n",
            "\n",
            "Salvando green_tripdata_2023-03 como Delta Lake em gs://teste_ifood/nyc_data/green_tripdata_delta/2023-03...\n"
          ]
        },
        {
          "output_type": "display_data",
          "data": {
            "text/plain": [
              "<IPython.core.display.HTML object>"
            ],
            "text/html": [
              "\n",
              "              <div>\n",
              "                  <p><a href=\"https://console.cloud.google.com/dataproc/interactive/southamerica-east1/sc-20250811-210502-8nv3ck/sparkApplications/application;associatedSqlOperationId=ddcd46ec-db85-49b0-b405-ece26c36285c?project=coastal-stream-464319-q3\">Spark Query</a> (Operation: ddcd46ec-db85-49b0-b405-ece26c36285c)</p>\n",
              "              </div>\n",
              "              "
            ]
          },
          "metadata": {}
        },
        {
          "output_type": "stream",
          "name": "stdout",
          "text": [
            "✓ Arquivo green_tripdata_2023-03 salvo como Delta Lake em gs://teste_ifood/nyc_data/green_tripdata_delta/2023-03\n",
            "Arquivo local /tmp/nyc_data/green_tripdata_2023-03.parquet removido\n",
            "Baixando green_tripdata_2023-04...\n",
            "Arquivo baixado para /tmp/nyc_data/green_tripdata_2023-04.parquet\n",
            "Enviando green_tripdata_2023-04 para o GCS...\n",
            "Arquivo enviado para gs://teste_ifood/nyc_data/temp/green_tripdata_2023-04.parquet\n",
            "Lendo green_tripdata_2023-04 com Spark do GCS...\n"
          ]
        },
        {
          "output_type": "display_data",
          "data": {
            "text/plain": [
              "<IPython.core.display.HTML object>"
            ],
            "text/html": [
              "\n",
              "              <div>\n",
              "                  <p><a href=\"https://console.cloud.google.com/dataproc/interactive/southamerica-east1/sc-20250811-210502-8nv3ck/sparkApplications/application;associatedSqlOperationId=b558dc0b-035d-4eeb-8bba-6eea15289802?project=coastal-stream-464319-q3\">Spark Query</a> (Operation: b558dc0b-035d-4eeb-8bba-6eea15289802)</p>\n",
              "              </div>\n",
              "              "
            ]
          },
          "metadata": {}
        },
        {
          "output_type": "stream",
          "name": "stdout",
          "text": [
            "Arquivo green_tripdata_2023-04 contém 65392 registros\n",
            "Estrutura do DataFrame:\n",
            "root\n",
            " |-- VendorID: integer (nullable = true)\n",
            " |-- lpep_pickup_datetime: timestamp_ntz (nullable = true)\n",
            " |-- lpep_dropoff_datetime: timestamp_ntz (nullable = true)\n",
            " |-- store_and_fwd_flag: string (nullable = true)\n",
            " |-- RatecodeID: long (nullable = true)\n",
            " |-- PULocationID: integer (nullable = true)\n",
            " |-- DOLocationID: integer (nullable = true)\n",
            " |-- passenger_count: long (nullable = true)\n",
            " |-- trip_distance: double (nullable = true)\n",
            " |-- fare_amount: double (nullable = true)\n",
            " |-- extra: double (nullable = true)\n",
            " |-- mta_tax: double (nullable = true)\n",
            " |-- tip_amount: double (nullable = true)\n",
            " |-- tolls_amount: double (nullable = true)\n",
            " |-- ehail_fee: double (nullable = true)\n",
            " |-- improvement_surcharge: double (nullable = true)\n",
            " |-- total_amount: double (nullable = true)\n",
            " |-- payment_type: long (nullable = true)\n",
            " |-- trip_type: long (nullable = true)\n",
            " |-- congestion_surcharge: double (nullable = true)\n",
            "\n",
            "Salvando green_tripdata_2023-04 como Delta Lake em gs://teste_ifood/nyc_data/green_tripdata_delta/2023-04...\n"
          ]
        },
        {
          "output_type": "display_data",
          "data": {
            "text/plain": [
              "<IPython.core.display.HTML object>"
            ],
            "text/html": [
              "\n",
              "              <div>\n",
              "                  <p><a href=\"https://console.cloud.google.com/dataproc/interactive/southamerica-east1/sc-20250811-210502-8nv3ck/sparkApplications/application;associatedSqlOperationId=f32aba1e-09e6-4649-b2b4-810b60c4a0db?project=coastal-stream-464319-q3\">Spark Query</a> (Operation: f32aba1e-09e6-4649-b2b4-810b60c4a0db)</p>\n",
              "              </div>\n",
              "              "
            ]
          },
          "metadata": {}
        },
        {
          "output_type": "stream",
          "name": "stdout",
          "text": [
            "✓ Arquivo green_tripdata_2023-04 salvo como Delta Lake em gs://teste_ifood/nyc_data/green_tripdata_delta/2023-04\n",
            "Arquivo local /tmp/nyc_data/green_tripdata_2023-04.parquet removido\n",
            "Baixando green_tripdata_2023-05...\n",
            "Arquivo baixado para /tmp/nyc_data/green_tripdata_2023-05.parquet\n",
            "Enviando green_tripdata_2023-05 para o GCS...\n",
            "Arquivo enviado para gs://teste_ifood/nyc_data/temp/green_tripdata_2023-05.parquet\n",
            "Lendo green_tripdata_2023-05 com Spark do GCS...\n"
          ]
        },
        {
          "output_type": "display_data",
          "data": {
            "text/plain": [
              "<IPython.core.display.HTML object>"
            ],
            "text/html": [
              "\n",
              "              <div>\n",
              "                  <p><a href=\"https://console.cloud.google.com/dataproc/interactive/southamerica-east1/sc-20250811-210502-8nv3ck/sparkApplications/application;associatedSqlOperationId=4a190423-e698-4480-a3ab-4a68c65660b9?project=coastal-stream-464319-q3\">Spark Query</a> (Operation: 4a190423-e698-4480-a3ab-4a68c65660b9)</p>\n",
              "              </div>\n",
              "              "
            ]
          },
          "metadata": {}
        },
        {
          "output_type": "stream",
          "name": "stdout",
          "text": [
            "Arquivo green_tripdata_2023-05 contém 69174 registros\n",
            "Estrutura do DataFrame:\n",
            "root\n",
            " |-- VendorID: integer (nullable = true)\n",
            " |-- lpep_pickup_datetime: timestamp_ntz (nullable = true)\n",
            " |-- lpep_dropoff_datetime: timestamp_ntz (nullable = true)\n",
            " |-- store_and_fwd_flag: string (nullable = true)\n",
            " |-- RatecodeID: long (nullable = true)\n",
            " |-- PULocationID: integer (nullable = true)\n",
            " |-- DOLocationID: integer (nullable = true)\n",
            " |-- passenger_count: long (nullable = true)\n",
            " |-- trip_distance: double (nullable = true)\n",
            " |-- fare_amount: double (nullable = true)\n",
            " |-- extra: double (nullable = true)\n",
            " |-- mta_tax: double (nullable = true)\n",
            " |-- tip_amount: double (nullable = true)\n",
            " |-- tolls_amount: double (nullable = true)\n",
            " |-- ehail_fee: double (nullable = true)\n",
            " |-- improvement_surcharge: double (nullable = true)\n",
            " |-- total_amount: double (nullable = true)\n",
            " |-- payment_type: long (nullable = true)\n",
            " |-- trip_type: long (nullable = true)\n",
            " |-- congestion_surcharge: double (nullable = true)\n",
            "\n",
            "Salvando green_tripdata_2023-05 como Delta Lake em gs://teste_ifood/nyc_data/green_tripdata_delta/2023-05...\n"
          ]
        },
        {
          "output_type": "display_data",
          "data": {
            "text/plain": [
              "<IPython.core.display.HTML object>"
            ],
            "text/html": [
              "\n",
              "              <div>\n",
              "                  <p><a href=\"https://console.cloud.google.com/dataproc/interactive/southamerica-east1/sc-20250811-210502-8nv3ck/sparkApplications/application;associatedSqlOperationId=eec77dfb-1b52-4d3c-a39c-303081fad08c?project=coastal-stream-464319-q3\">Spark Query</a> (Operation: eec77dfb-1b52-4d3c-a39c-303081fad08c)</p>\n",
              "              </div>\n",
              "              "
            ]
          },
          "metadata": {}
        },
        {
          "output_type": "stream",
          "name": "stdout",
          "text": [
            "✓ Arquivo green_tripdata_2023-05 salvo como Delta Lake em gs://teste_ifood/nyc_data/green_tripdata_delta/2023-05\n",
            "Arquivo local /tmp/nyc_data/green_tripdata_2023-05.parquet removido\n",
            "\n",
            "Processamento concluído!\n"
          ]
        }
      ]
    }
  ]
}